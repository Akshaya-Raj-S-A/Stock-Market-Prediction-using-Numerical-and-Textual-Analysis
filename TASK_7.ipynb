{
  "nbformat": 4,
  "nbformat_minor": 0,
  "metadata": {
    "colab": {
      "name": "TASK 7.ipynb",
      "provenance": [],
      "collapsed_sections": [],
      "authorship_tag": "ABX9TyO1ZqXocw2bpG3Ty2sRi6As"
    },
    "kernelspec": {
      "name": "python3",
      "display_name": "Python 3"
    },
    "language_info": {
      "name": "python"
    }
  },
  "cells": [
    {
      "cell_type": "markdown",
      "metadata": {
        "id": "2kORBOiJdCFo"
      },
      "source": [
        "\n",
        "\n",
        "---\n",
        "\n",
        "\n",
        "# **STOCK MARKET PREDICTION USING NUMERICAL AND TEXTUAL ANALYSIS**\n",
        "\n",
        "## **AUTHOR - AKSHAYA RAJ S A**\n",
        "\n",
        "---\n"
      ]
    },
    {
      "cell_type": "markdown",
      "metadata": {
        "id": "RpnTm85MeBhb"
      },
      "source": [
        "\n",
        "# **IMPORTING LIBRARIES AND DATASET**\n",
        "\n",
        "\n",
        "---\n"
      ]
    },
    {
      "cell_type": "code",
      "metadata": {
        "id": "Grh3kKEWktGP"
      },
      "source": [
        "import pandas as pd\n",
        "import numpy as np\n",
        "import matplotlib.pyplot as plt\n",
        "import tensorflow as tf\n",
        "from nltk.corpus import stopwords\n",
        "from sklearn import *\n",
        "from keras import *\n",
        "import re"
      ],
      "execution_count": null,
      "outputs": []
    },
    {
      "cell_type": "code",
      "metadata": {
        "colab": {
          "resources": {
            "http://localhost:8080/nbextensions/google.colab/files.js": {
              "data": "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",
              "ok": true,
              "headers": [
                [
                  "content-type",
                  "application/javascript"
                ]
              ],
              "status": 200,
              "status_text": ""
            }
          },
          "base_uri": "https://localhost:8080/",
          "height": 104
        },
        "id": "lbmTJX0zm9su",
        "outputId": "2db0333a-5c9a-49e9-d78b-ce8936f36b37"
      },
      "source": [
        "from google.colab import files\n",
        "uploaded = files.upload()"
      ],
      "execution_count": null,
      "outputs": [
        {
          "output_type": "display_data",
          "data": {
            "text/html": [
              "\n",
              "     <input type=\"file\" id=\"files-2984601b-fd42-40d2-a243-398c898a0b56\" name=\"files[]\" multiple disabled\n",
              "        style=\"border:none\" />\n",
              "     <output id=\"result-2984601b-fd42-40d2-a243-398c898a0b56\">\n",
              "      Upload widget is only available when the cell has been executed in the\n",
              "      current browser session. Please rerun this cell to enable.\n",
              "      </output>\n",
              "      <script src=\"/nbextensions/google.colab/files.js\"></script> "
            ],
            "text/plain": [
              "<IPython.core.display.HTML object>"
            ]
          },
          "metadata": {
            "tags": []
          }
        },
        {
          "output_type": "stream",
          "text": [
            "Saving AMZN.csv to AMZN.csv\n",
            "Saving india-news-headlines.csv to india-news-headlines.csv\n"
          ],
          "name": "stdout"
        }
      ]
    },
    {
      "cell_type": "code",
      "metadata": {
        "id": "9LmFYzSytT_G"
      },
      "source": [
        "import io\n",
        "stock = pd.read_csv(io.BytesIO(uploaded['AMZN.csv']))\n",
        "news = pd.read_csv(io.BytesIO(uploaded['india-news-headlines.csv']))"
      ],
      "execution_count": null,
      "outputs": []
    },
    {
      "cell_type": "markdown",
      "metadata": {
        "id": "5wdU0OW0eJzF"
      },
      "source": [
        "\n",
        "\n",
        "---\n",
        "# **DATA EXPLORATION AND TRANSFORMATION**\n",
        "\n",
        "\n",
        "---\n",
        "\n",
        "\n",
        "\n"
      ]
    },
    {
      "cell_type": "code",
      "metadata": {
        "id": "8d1YI_uuCLmi",
        "colab": {
          "base_uri": "https://localhost:8080/"
        },
        "outputId": "60f13456-a016-4c3f-bcc2-577853e5eced"
      },
      "source": [
        "print(stock.info())\n",
        "print(news.info())"
      ],
      "execution_count": null,
      "outputs": [
        {
          "output_type": "stream",
          "text": [
            "<class 'pandas.core.frame.DataFrame'>\n",
            "RangeIndex: 6044 entries, 0 to 6043\n",
            "Data columns (total 7 columns):\n",
            " #   Column     Non-Null Count  Dtype  \n",
            "---  ------     --------------  -----  \n",
            " 0   Date       6044 non-null   object \n",
            " 1   Open       6044 non-null   float64\n",
            " 2   High       6044 non-null   float64\n",
            " 3   Low        6044 non-null   float64\n",
            " 4   Close      6044 non-null   float64\n",
            " 5   Adj Close  6044 non-null   float64\n",
            " 6   Volume     6044 non-null   int64  \n",
            "dtypes: float64(5), int64(1), object(1)\n",
            "memory usage: 330.7+ KB\n",
            "None\n",
            "<class 'pandas.core.frame.DataFrame'>\n",
            "RangeIndex: 1034212 entries, 0 to 1034211\n",
            "Data columns (total 3 columns):\n",
            " #   Column             Non-Null Count    Dtype \n",
            "---  ------             --------------    ----- \n",
            " 0   publish_date       1034212 non-null  int64 \n",
            " 1   headline_category  1034212 non-null  object\n",
            " 2   headline_text      1034212 non-null  object\n",
            "dtypes: int64(1), object(2)\n",
            "memory usage: 23.7+ MB\n",
            "None\n"
          ],
          "name": "stdout"
        }
      ]
    },
    {
      "cell_type": "code",
      "metadata": {
        "id": "xfjiUVuzmm6n"
      },
      "source": [
        "news = news.drop(['headline_category'], 1)"
      ],
      "execution_count": 197,
      "outputs": []
    },
    {
      "cell_type": "code",
      "metadata": {
        "colab": {
          "base_uri": "https://localhost:8080/",
          "height": 191
        },
        "id": "E1O4oRiRgrAv",
        "outputId": "ecf03133-c617-405d-e675-48d768ecb2a0"
      },
      "source": [
        "stock.head(5)"
      ],
      "execution_count": null,
      "outputs": [
        {
          "output_type": "execute_result",
          "data": {
            "text/html": [
              "<div>\n",
              "<style scoped>\n",
              "    .dataframe tbody tr th:only-of-type {\n",
              "        vertical-align: middle;\n",
              "    }\n",
              "\n",
              "    .dataframe tbody tr th {\n",
              "        vertical-align: top;\n",
              "    }\n",
              "\n",
              "    .dataframe thead th {\n",
              "        text-align: right;\n",
              "    }\n",
              "</style>\n",
              "<table border=\"1\" class=\"dataframe\">\n",
              "  <thead>\n",
              "    <tr style=\"text-align: right;\">\n",
              "      <th></th>\n",
              "      <th>Date</th>\n",
              "      <th>Open</th>\n",
              "      <th>High</th>\n",
              "      <th>Low</th>\n",
              "      <th>Close</th>\n",
              "      <th>Adj Close</th>\n",
              "      <th>Volume</th>\n",
              "    </tr>\n",
              "  </thead>\n",
              "  <tbody>\n",
              "    <tr>\n",
              "      <th>0</th>\n",
              "      <td>1997-05-15</td>\n",
              "      <td>2.437500</td>\n",
              "      <td>2.500000</td>\n",
              "      <td>1.927083</td>\n",
              "      <td>1.958333</td>\n",
              "      <td>1.958333</td>\n",
              "      <td>72156000</td>\n",
              "    </tr>\n",
              "    <tr>\n",
              "      <th>1</th>\n",
              "      <td>1997-05-16</td>\n",
              "      <td>1.968750</td>\n",
              "      <td>1.979167</td>\n",
              "      <td>1.708333</td>\n",
              "      <td>1.729167</td>\n",
              "      <td>1.729167</td>\n",
              "      <td>14700000</td>\n",
              "    </tr>\n",
              "    <tr>\n",
              "      <th>2</th>\n",
              "      <td>1997-05-19</td>\n",
              "      <td>1.760417</td>\n",
              "      <td>1.770833</td>\n",
              "      <td>1.625000</td>\n",
              "      <td>1.708333</td>\n",
              "      <td>1.708333</td>\n",
              "      <td>6106800</td>\n",
              "    </tr>\n",
              "    <tr>\n",
              "      <th>3</th>\n",
              "      <td>1997-05-20</td>\n",
              "      <td>1.729167</td>\n",
              "      <td>1.750000</td>\n",
              "      <td>1.635417</td>\n",
              "      <td>1.635417</td>\n",
              "      <td>1.635417</td>\n",
              "      <td>5467200</td>\n",
              "    </tr>\n",
              "    <tr>\n",
              "      <th>4</th>\n",
              "      <td>1997-05-21</td>\n",
              "      <td>1.635417</td>\n",
              "      <td>1.645833</td>\n",
              "      <td>1.375000</td>\n",
              "      <td>1.427083</td>\n",
              "      <td>1.427083</td>\n",
              "      <td>18853200</td>\n",
              "    </tr>\n",
              "  </tbody>\n",
              "</table>\n",
              "</div>"
            ],
            "text/plain": [
              "         Date      Open      High       Low     Close  Adj Close    Volume\n",
              "0  1997-05-15  2.437500  2.500000  1.927083  1.958333   1.958333  72156000\n",
              "1  1997-05-16  1.968750  1.979167  1.708333  1.729167   1.729167  14700000\n",
              "2  1997-05-19  1.760417  1.770833  1.625000  1.708333   1.708333   6106800\n",
              "3  1997-05-20  1.729167  1.750000  1.635417  1.635417   1.635417   5467200\n",
              "4  1997-05-21  1.635417  1.645833  1.375000  1.427083   1.427083  18853200"
            ]
          },
          "metadata": {
            "tags": []
          },
          "execution_count": null
        }
      ]
    },
    {
      "cell_type": "code",
      "metadata": {
        "colab": {
          "base_uri": "https://localhost:8080/",
          "height": 191
        },
        "id": "PNesSWdWg-6x",
        "outputId": "624cff3e-3364-451f-8a11-b5acaa99aac4"
      },
      "source": [
        "news.head(5)"
      ],
      "execution_count": null,
      "outputs": [
        {
          "output_type": "execute_result",
          "data": {
            "text/html": [
              "<div>\n",
              "<style scoped>\n",
              "    .dataframe tbody tr th:only-of-type {\n",
              "        vertical-align: middle;\n",
              "    }\n",
              "\n",
              "    .dataframe tbody tr th {\n",
              "        vertical-align: top;\n",
              "    }\n",
              "\n",
              "    .dataframe thead th {\n",
              "        text-align: right;\n",
              "    }\n",
              "</style>\n",
              "<table border=\"1\" class=\"dataframe\">\n",
              "  <thead>\n",
              "    <tr style=\"text-align: right;\">\n",
              "      <th></th>\n",
              "      <th>publish_date</th>\n",
              "      <th>headline_text</th>\n",
              "    </tr>\n",
              "  </thead>\n",
              "  <tbody>\n",
              "    <tr>\n",
              "      <th>0</th>\n",
              "      <td>20010102</td>\n",
              "      <td>Status quo will not be disturbed at Ayodhya; s...</td>\n",
              "    </tr>\n",
              "    <tr>\n",
              "      <th>1</th>\n",
              "      <td>20010102</td>\n",
              "      <td>Fissures in Hurriyat over Pak visit</td>\n",
              "    </tr>\n",
              "    <tr>\n",
              "      <th>2</th>\n",
              "      <td>20010102</td>\n",
              "      <td>America's unwanted heading for India?</td>\n",
              "    </tr>\n",
              "    <tr>\n",
              "      <th>3</th>\n",
              "      <td>20010102</td>\n",
              "      <td>For bigwigs; it is destination Goa</td>\n",
              "    </tr>\n",
              "    <tr>\n",
              "      <th>4</th>\n",
              "      <td>20010102</td>\n",
              "      <td>Extra buses to clear tourist traffic</td>\n",
              "    </tr>\n",
              "  </tbody>\n",
              "</table>\n",
              "</div>"
            ],
            "text/plain": [
              "   publish_date                                      headline_text\n",
              "0      20010102  Status quo will not be disturbed at Ayodhya; s...\n",
              "1      20010102                Fissures in Hurriyat over Pak visit\n",
              "2      20010102              America's unwanted heading for India?\n",
              "3      20010102                 For bigwigs; it is destination Goa\n",
              "4      20010102               Extra buses to clear tourist traffic"
            ]
          },
          "metadata": {
            "tags": []
          },
          "execution_count": null
        }
      ]
    },
    {
      "cell_type": "code",
      "metadata": {
        "id": "gPLKsxX3iZfc"
      },
      "source": [
        "from datetime import datetime\n",
        "news['publish_date'] = pd.to_datetime(news['publish_date'], format='%Y%m%d').dt.strftime(\"%Y-%m-%d\")\n",
        "news['publish_date'] = pd.to_datetime(news['publish_date']).dt.normalize()\n",
        "stock['Date'] = pd.to_datetime(stock['Date']).dt.normalize()\n"
      ],
      "execution_count": null,
      "outputs": []
    },
    {
      "cell_type": "code",
      "metadata": {
        "colab": {
          "base_uri": "https://localhost:8080/",
          "height": 191
        },
        "id": "NghLvwnFkbz_",
        "outputId": "624a18b3-0fc5-4cad-8a7e-c95cc9c1c9bb"
      },
      "source": [
        "news.head(5)"
      ],
      "execution_count": 201,
      "outputs": [
        {
          "output_type": "execute_result",
          "data": {
            "text/html": [
              "<div>\n",
              "<style scoped>\n",
              "    .dataframe tbody tr th:only-of-type {\n",
              "        vertical-align: middle;\n",
              "    }\n",
              "\n",
              "    .dataframe tbody tr th {\n",
              "        vertical-align: top;\n",
              "    }\n",
              "\n",
              "    .dataframe thead th {\n",
              "        text-align: right;\n",
              "    }\n",
              "</style>\n",
              "<table border=\"1\" class=\"dataframe\">\n",
              "  <thead>\n",
              "    <tr style=\"text-align: right;\">\n",
              "      <th></th>\n",
              "      <th>publish_date</th>\n",
              "      <th>headline_text</th>\n",
              "    </tr>\n",
              "  </thead>\n",
              "  <tbody>\n",
              "    <tr>\n",
              "      <th>0</th>\n",
              "      <td>2001-01-02</td>\n",
              "      <td>Status quo will not be disturbed at Ayodhya; s...</td>\n",
              "    </tr>\n",
              "    <tr>\n",
              "      <th>1</th>\n",
              "      <td>2001-01-02</td>\n",
              "      <td>Fissures in Hurriyat over Pak visit</td>\n",
              "    </tr>\n",
              "    <tr>\n",
              "      <th>2</th>\n",
              "      <td>2001-01-02</td>\n",
              "      <td>America's unwanted heading for India?</td>\n",
              "    </tr>\n",
              "    <tr>\n",
              "      <th>3</th>\n",
              "      <td>2001-01-02</td>\n",
              "      <td>For bigwigs; it is destination Goa</td>\n",
              "    </tr>\n",
              "    <tr>\n",
              "      <th>4</th>\n",
              "      <td>2001-01-02</td>\n",
              "      <td>Extra buses to clear tourist traffic</td>\n",
              "    </tr>\n",
              "  </tbody>\n",
              "</table>\n",
              "</div>"
            ],
            "text/plain": [
              "  publish_date                                      headline_text\n",
              "0   2001-01-02  Status quo will not be disturbed at Ayodhya; s...\n",
              "1   2001-01-02                Fissures in Hurriyat over Pak visit\n",
              "2   2001-01-02              America's unwanted heading for India?\n",
              "3   2001-01-02                 For bigwigs; it is destination Goa\n",
              "4   2001-01-02               Extra buses to clear tourist traffic"
            ]
          },
          "metadata": {
            "tags": []
          },
          "execution_count": 201
        }
      ]
    },
    {
      "cell_type": "code",
      "metadata": {
        "colab": {
          "base_uri": "https://localhost:8080/"
        },
        "id": "02yyuMbBeuSt",
        "outputId": "2d936160-508e-451f-908f-123f7a7628f7"
      },
      "source": [
        "print(stock.info())\n",
        "print(news.info())"
      ],
      "execution_count": 202,
      "outputs": [
        {
          "output_type": "stream",
          "text": [
            "<class 'pandas.core.frame.DataFrame'>\n",
            "RangeIndex: 6044 entries, 0 to 6043\n",
            "Data columns (total 7 columns):\n",
            " #   Column     Non-Null Count  Dtype         \n",
            "---  ------     --------------  -----         \n",
            " 0   Date       6044 non-null   datetime64[ns]\n",
            " 1   Open       6044 non-null   float64       \n",
            " 2   High       6044 non-null   float64       \n",
            " 3   Low        6044 non-null   float64       \n",
            " 4   Close      6044 non-null   float64       \n",
            " 5   Adj Close  6044 non-null   float64       \n",
            " 6   Volume     6044 non-null   int64         \n",
            "dtypes: datetime64[ns](1), float64(5), int64(1)\n",
            "memory usage: 330.7 KB\n",
            "None\n",
            "<class 'pandas.core.frame.DataFrame'>\n",
            "RangeIndex: 1034212 entries, 0 to 1034211\n",
            "Data columns (total 2 columns):\n",
            " #   Column         Non-Null Count    Dtype         \n",
            "---  ------         --------------    -----         \n",
            " 0   publish_date   1034212 non-null  datetime64[ns]\n",
            " 1   headline_text  1034212 non-null  object        \n",
            "dtypes: datetime64[ns](1), object(1)\n",
            "memory usage: 15.8+ MB\n",
            "None\n"
          ],
          "name": "stdout"
        }
      ]
    },
    {
      "cell_type": "code",
      "metadata": {
        "colab": {
          "base_uri": "https://localhost:8080/"
        },
        "id": "NUydXwZ5heVL",
        "outputId": "0374bf8b-c8a0-4ed8-e47b-c9fee02801e9"
      },
      "source": [
        "print(\" SHAPE OF STOCK DATAFRAME : \", stock.shape)\n",
        "print(\" SHAPE OF NEWS DATAFRAME  : \", news.shape)\n"
      ],
      "execution_count": 203,
      "outputs": [
        {
          "output_type": "stream",
          "text": [
            " SHAPE OF STOCK DATAFRAME :  (6044, 7)\n",
            " SHAPE OF NEWS DATAFRAME  :  (1034212, 2)\n"
          ],
          "name": "stdout"
        }
      ]
    },
    {
      "cell_type": "code",
      "metadata": {
        "id": "6ADNtL1xhZhT"
      },
      "source": [
        "news = news[news.publish_date.isin(stock.Date)]"
      ],
      "execution_count": 204,
      "outputs": []
    },
    {
      "cell_type": "code",
      "metadata": {
        "id": "EYLkmrWtlKpU"
      },
      "source": [
        "stock = stock[stock.Date.isin(news.publish_date)]"
      ],
      "execution_count": 205,
      "outputs": []
    },
    {
      "cell_type": "code",
      "metadata": {
        "colab": {
          "base_uri": "https://localhost:8080/"
        },
        "id": "-hl_L_zOiUPR",
        "outputId": "09e7530c-3397-4986-d02c-3ceb7a571da1"
      },
      "source": [
        "print(len(set(stock.Date)))\n",
        "print(len(set(news.publish_date)))"
      ],
      "execution_count": 206,
      "outputs": [
        {
          "output_type": "stream",
          "text": [
            "2487\n",
            "2487\n"
          ],
          "name": "stdout"
        }
      ]
    },
    {
      "cell_type": "code",
      "metadata": {
        "id": "SsFK2h-wr0uw"
      },
      "source": [
        "stock.set_index('Date', inplace= True)\n",
        "stock = stock.sort_index(ascending=True, axis=0)"
      ],
      "execution_count": 207,
      "outputs": []
    },
    {
      "cell_type": "code",
      "metadata": {
        "id": "zb3Jujtnn60O"
      },
      "source": [
        "news.set_index('publish_date', inplace= True)\n",
        "news = news.sort_index(ascending=True, axis=0)"
      ],
      "execution_count": 208,
      "outputs": []
    },
    {
      "cell_type": "markdown",
      "metadata": {
        "id": "dEWAtzd_fREt"
      },
      "source": [
        "\n",
        "\n",
        "---\n",
        "# **SENTIMENT ANALYSIS**\n",
        "\n",
        "\n",
        "---\n",
        "\n",
        "\n",
        "\n"
      ]
    },
    {
      "cell_type": "code",
      "metadata": {
        "colab": {
          "base_uri": "https://localhost:8080/",
          "height": 623
        },
        "id": "o4nY5Vefki8P",
        "outputId": "ab882536-d9fc-4c3e-d7d0-7c41032c09d0"
      },
      "source": [
        "stock_news = pd.concat([stock, news], axis=1)\n",
        "stock_news.dropna(axis=0, inplace=True)\n",
        "stock_news.head(20)"
      ],
      "execution_count": 210,
      "outputs": [
        {
          "output_type": "execute_result",
          "data": {
            "text/html": [
              "<div>\n",
              "<style scoped>\n",
              "    .dataframe tbody tr th:only-of-type {\n",
              "        vertical-align: middle;\n",
              "    }\n",
              "\n",
              "    .dataframe tbody tr th {\n",
              "        vertical-align: top;\n",
              "    }\n",
              "\n",
              "    .dataframe thead th {\n",
              "        text-align: right;\n",
              "    }\n",
              "</style>\n",
              "<table border=\"1\" class=\"dataframe\">\n",
              "  <thead>\n",
              "    <tr style=\"text-align: right;\">\n",
              "      <th></th>\n",
              "      <th>Open</th>\n",
              "      <th>High</th>\n",
              "      <th>Low</th>\n",
              "      <th>Close</th>\n",
              "      <th>Adj Close</th>\n",
              "      <th>Volume</th>\n",
              "      <th>headline_text</th>\n",
              "    </tr>\n",
              "  </thead>\n",
              "  <tbody>\n",
              "    <tr>\n",
              "      <th>2001-01-02</th>\n",
              "      <td>15.8125</td>\n",
              "      <td>16.0</td>\n",
              "      <td>13.625</td>\n",
              "      <td>13.875</td>\n",
              "      <td>13.875</td>\n",
              "      <td>9203500</td>\n",
              "      <td>Status quo will not be disturbed at Ayodhya; s...</td>\n",
              "    </tr>\n",
              "    <tr>\n",
              "      <th>2001-01-02</th>\n",
              "      <td>15.8125</td>\n",
              "      <td>16.0</td>\n",
              "      <td>13.625</td>\n",
              "      <td>13.875</td>\n",
              "      <td>13.875</td>\n",
              "      <td>9203500</td>\n",
              "      <td>Fissures in Hurriyat over Pak visit</td>\n",
              "    </tr>\n",
              "    <tr>\n",
              "      <th>2001-01-02</th>\n",
              "      <td>15.8125</td>\n",
              "      <td>16.0</td>\n",
              "      <td>13.625</td>\n",
              "      <td>13.875</td>\n",
              "      <td>13.875</td>\n",
              "      <td>9203500</td>\n",
              "      <td>America's unwanted heading for India?</td>\n",
              "    </tr>\n",
              "    <tr>\n",
              "      <th>2001-01-02</th>\n",
              "      <td>15.8125</td>\n",
              "      <td>16.0</td>\n",
              "      <td>13.625</td>\n",
              "      <td>13.875</td>\n",
              "      <td>13.875</td>\n",
              "      <td>9203500</td>\n",
              "      <td>For bigwigs; it is destination Goa</td>\n",
              "    </tr>\n",
              "    <tr>\n",
              "      <th>2001-01-02</th>\n",
              "      <td>15.8125</td>\n",
              "      <td>16.0</td>\n",
              "      <td>13.625</td>\n",
              "      <td>13.875</td>\n",
              "      <td>13.875</td>\n",
              "      <td>9203500</td>\n",
              "      <td>Extra buses to clear tourist traffic</td>\n",
              "    </tr>\n",
              "    <tr>\n",
              "      <th>2001-01-02</th>\n",
              "      <td>15.8125</td>\n",
              "      <td>16.0</td>\n",
              "      <td>13.625</td>\n",
              "      <td>13.875</td>\n",
              "      <td>13.875</td>\n",
              "      <td>9203500</td>\n",
              "      <td>Dilute the power of transfers; says Riberio</td>\n",
              "    </tr>\n",
              "    <tr>\n",
              "      <th>2001-01-02</th>\n",
              "      <td>15.8125</td>\n",
              "      <td>16.0</td>\n",
              "      <td>13.625</td>\n",
              "      <td>13.875</td>\n",
              "      <td>13.875</td>\n",
              "      <td>9203500</td>\n",
              "      <td>Focus shifts to teaching of Hindi</td>\n",
              "    </tr>\n",
              "    <tr>\n",
              "      <th>2001-01-02</th>\n",
              "      <td>15.8125</td>\n",
              "      <td>16.0</td>\n",
              "      <td>13.625</td>\n",
              "      <td>13.875</td>\n",
              "      <td>13.875</td>\n",
              "      <td>9203500</td>\n",
              "      <td>IT will become compulsory in schools</td>\n",
              "    </tr>\n",
              "    <tr>\n",
              "      <th>2001-01-02</th>\n",
              "      <td>15.8125</td>\n",
              "      <td>16.0</td>\n",
              "      <td>13.625</td>\n",
              "      <td>13.875</td>\n",
              "      <td>13.875</td>\n",
              "      <td>9203500</td>\n",
              "      <td>Move to stop freedom fighters' pension flayed</td>\n",
              "    </tr>\n",
              "    <tr>\n",
              "      <th>2001-01-02</th>\n",
              "      <td>15.8125</td>\n",
              "      <td>16.0</td>\n",
              "      <td>13.625</td>\n",
              "      <td>13.875</td>\n",
              "      <td>13.875</td>\n",
              "      <td>9203500</td>\n",
              "      <td>Gilani claims he applied for passport 2 years ago</td>\n",
              "    </tr>\n",
              "    <tr>\n",
              "      <th>2001-01-02</th>\n",
              "      <td>15.8125</td>\n",
              "      <td>16.0</td>\n",
              "      <td>13.625</td>\n",
              "      <td>13.875</td>\n",
              "      <td>13.875</td>\n",
              "      <td>9203500</td>\n",
              "      <td>Parivar dismisses PM's warning</td>\n",
              "    </tr>\n",
              "    <tr>\n",
              "      <th>2001-01-02</th>\n",
              "      <td>15.8125</td>\n",
              "      <td>16.0</td>\n",
              "      <td>13.625</td>\n",
              "      <td>13.875</td>\n",
              "      <td>13.875</td>\n",
              "      <td>9203500</td>\n",
              "      <td>India; Pak exchange lists of N-plants</td>\n",
              "    </tr>\n",
              "    <tr>\n",
              "      <th>2001-01-02</th>\n",
              "      <td>15.8125</td>\n",
              "      <td>16.0</td>\n",
              "      <td>13.625</td>\n",
              "      <td>13.875</td>\n",
              "      <td>13.875</td>\n",
              "      <td>9203500</td>\n",
              "      <td>Will Qureshi's return really help the govt?</td>\n",
              "    </tr>\n",
              "    <tr>\n",
              "      <th>2001-01-02</th>\n",
              "      <td>15.8125</td>\n",
              "      <td>16.0</td>\n",
              "      <td>13.625</td>\n",
              "      <td>13.875</td>\n",
              "      <td>13.875</td>\n",
              "      <td>9203500</td>\n",
              "      <td>PM's tacit message: Put Ram tample on hold</td>\n",
              "    </tr>\n",
              "    <tr>\n",
              "      <th>2001-01-02</th>\n",
              "      <td>15.8125</td>\n",
              "      <td>16.0</td>\n",
              "      <td>13.625</td>\n",
              "      <td>13.875</td>\n",
              "      <td>13.875</td>\n",
              "      <td>9203500</td>\n",
              "      <td>Text of the Prime Minister's article</td>\n",
              "    </tr>\n",
              "    <tr>\n",
              "      <th>2001-01-02</th>\n",
              "      <td>15.8125</td>\n",
              "      <td>16.0</td>\n",
              "      <td>13.625</td>\n",
              "      <td>13.875</td>\n",
              "      <td>13.875</td>\n",
              "      <td>9203500</td>\n",
              "      <td>NCW to focus on violence against women</td>\n",
              "    </tr>\n",
              "    <tr>\n",
              "      <th>2001-01-02</th>\n",
              "      <td>15.8125</td>\n",
              "      <td>16.0</td>\n",
              "      <td>13.625</td>\n",
              "      <td>13.875</td>\n",
              "      <td>13.875</td>\n",
              "      <td>9203500</td>\n",
              "      <td>BBC's reality TV will focus on AIIMS</td>\n",
              "    </tr>\n",
              "    <tr>\n",
              "      <th>2001-01-02</th>\n",
              "      <td>15.8125</td>\n",
              "      <td>16.0</td>\n",
              "      <td>13.625</td>\n",
              "      <td>13.875</td>\n",
              "      <td>13.875</td>\n",
              "      <td>9203500</td>\n",
              "      <td>Jaitley firm on legal reforms</td>\n",
              "    </tr>\n",
              "    <tr>\n",
              "      <th>2001-01-02</th>\n",
              "      <td>15.8125</td>\n",
              "      <td>16.0</td>\n",
              "      <td>13.625</td>\n",
              "      <td>13.875</td>\n",
              "      <td>13.875</td>\n",
              "      <td>9203500</td>\n",
              "      <td>Hoshangabad farmers have enough water</td>\n",
              "    </tr>\n",
              "    <tr>\n",
              "      <th>2001-01-02</th>\n",
              "      <td>15.8125</td>\n",
              "      <td>16.0</td>\n",
              "      <td>13.625</td>\n",
              "      <td>13.875</td>\n",
              "      <td>13.875</td>\n",
              "      <td>9203500</td>\n",
              "      <td>BJP jumps into rail track conversion issue</td>\n",
              "    </tr>\n",
              "  </tbody>\n",
              "</table>\n",
              "</div>"
            ],
            "text/plain": [
              "               Open  ...                                      headline_text\n",
              "2001-01-02  15.8125  ...  Status quo will not be disturbed at Ayodhya; s...\n",
              "2001-01-02  15.8125  ...                Fissures in Hurriyat over Pak visit\n",
              "2001-01-02  15.8125  ...              America's unwanted heading for India?\n",
              "2001-01-02  15.8125  ...                 For bigwigs; it is destination Goa\n",
              "2001-01-02  15.8125  ...               Extra buses to clear tourist traffic\n",
              "2001-01-02  15.8125  ...        Dilute the power of transfers; says Riberio\n",
              "2001-01-02  15.8125  ...                  Focus shifts to teaching of Hindi\n",
              "2001-01-02  15.8125  ...               IT will become compulsory in schools\n",
              "2001-01-02  15.8125  ...      Move to stop freedom fighters' pension flayed\n",
              "2001-01-02  15.8125  ...  Gilani claims he applied for passport 2 years ago\n",
              "2001-01-02  15.8125  ...                     Parivar dismisses PM's warning\n",
              "2001-01-02  15.8125  ...              India; Pak exchange lists of N-plants\n",
              "2001-01-02  15.8125  ...        Will Qureshi's return really help the govt?\n",
              "2001-01-02  15.8125  ...         PM's tacit message: Put Ram tample on hold\n",
              "2001-01-02  15.8125  ...               Text of the Prime Minister's article\n",
              "2001-01-02  15.8125  ...             NCW to focus on violence against women\n",
              "2001-01-02  15.8125  ...               BBC's reality TV will focus on AIIMS\n",
              "2001-01-02  15.8125  ...                      Jaitley firm on legal reforms\n",
              "2001-01-02  15.8125  ...              Hoshangabad farmers have enough water\n",
              "2001-01-02  15.8125  ...         BJP jumps into rail track conversion issue\n",
              "\n",
              "[20 rows x 7 columns]"
            ]
          },
          "metadata": {
            "tags": []
          },
          "execution_count": 210
        }
      ]
    },
    {
      "cell_type": "code",
      "metadata": {
        "id": "R27y9sJq0fu1"
      },
      "source": [
        "from textblob import TextBlob\n",
        "polarity = []\n",
        "subjectivity = []\n",
        "for idx, row in stock_news.iterrows():\n",
        "  polarity.append(TextBlob(row['headline_text']).sentiment[0])\n",
        "  subjectivity.append(TextBlob(row['headline_text']).sentiment[1])"
      ],
      "execution_count": 211,
      "outputs": []
    },
    {
      "cell_type": "code",
      "metadata": {
        "id": "g4AVSY465015"
      },
      "source": [
        "stock_news['polarity'] = polarity\n",
        "stock_news['subjectivity'] = subjectivity"
      ],
      "execution_count": 212,
      "outputs": []
    },
    {
      "cell_type": "code",
      "metadata": {
        "id": "5oNwoUzoHgrD"
      },
      "source": [
        "stock_news['Price'] = round((stock_news['High'] + stock_news['Low'] + stock_news['Close']) / 3 , 2)\n"
      ],
      "execution_count": 213,
      "outputs": []
    },
    {
      "cell_type": "code",
      "metadata": {
        "id": "4KiDPCW98Dge"
      },
      "source": [
        "stock_news = stock_news.drop(['headline_text'], 1)"
      ],
      "execution_count": 214,
      "outputs": []
    },
    {
      "cell_type": "code",
      "metadata": {
        "colab": {
          "base_uri": "https://localhost:8080/",
          "height": 335
        },
        "id": "ONJDExue7_Hw",
        "outputId": "ad9afb39-d181-4c1c-9da5-1e74890a620f"
      },
      "source": [
        "stock_news.head(10)"
      ],
      "execution_count": 215,
      "outputs": [
        {
          "output_type": "execute_result",
          "data": {
            "text/html": [
              "<div>\n",
              "<style scoped>\n",
              "    .dataframe tbody tr th:only-of-type {\n",
              "        vertical-align: middle;\n",
              "    }\n",
              "\n",
              "    .dataframe tbody tr th {\n",
              "        vertical-align: top;\n",
              "    }\n",
              "\n",
              "    .dataframe thead th {\n",
              "        text-align: right;\n",
              "    }\n",
              "</style>\n",
              "<table border=\"1\" class=\"dataframe\">\n",
              "  <thead>\n",
              "    <tr style=\"text-align: right;\">\n",
              "      <th></th>\n",
              "      <th>Open</th>\n",
              "      <th>High</th>\n",
              "      <th>Low</th>\n",
              "      <th>Close</th>\n",
              "      <th>Adj Close</th>\n",
              "      <th>Volume</th>\n",
              "      <th>polarity</th>\n",
              "      <th>subjectivity</th>\n",
              "      <th>Price</th>\n",
              "    </tr>\n",
              "  </thead>\n",
              "  <tbody>\n",
              "    <tr>\n",
              "      <th>2001-01-02</th>\n",
              "      <td>15.8125</td>\n",
              "      <td>16.0</td>\n",
              "      <td>13.625</td>\n",
              "      <td>13.875</td>\n",
              "      <td>13.875</td>\n",
              "      <td>9203500</td>\n",
              "      <td>0.00</td>\n",
              "      <td>0.000000</td>\n",
              "      <td>14.5</td>\n",
              "    </tr>\n",
              "    <tr>\n",
              "      <th>2001-01-02</th>\n",
              "      <td>15.8125</td>\n",
              "      <td>16.0</td>\n",
              "      <td>13.625</td>\n",
              "      <td>13.875</td>\n",
              "      <td>13.875</td>\n",
              "      <td>9203500</td>\n",
              "      <td>0.00</td>\n",
              "      <td>0.000000</td>\n",
              "      <td>14.5</td>\n",
              "    </tr>\n",
              "    <tr>\n",
              "      <th>2001-01-02</th>\n",
              "      <td>15.8125</td>\n",
              "      <td>16.0</td>\n",
              "      <td>13.625</td>\n",
              "      <td>13.875</td>\n",
              "      <td>13.875</td>\n",
              "      <td>9203500</td>\n",
              "      <td>0.00</td>\n",
              "      <td>0.000000</td>\n",
              "      <td>14.5</td>\n",
              "    </tr>\n",
              "    <tr>\n",
              "      <th>2001-01-02</th>\n",
              "      <td>15.8125</td>\n",
              "      <td>16.0</td>\n",
              "      <td>13.625</td>\n",
              "      <td>13.875</td>\n",
              "      <td>13.875</td>\n",
              "      <td>9203500</td>\n",
              "      <td>0.00</td>\n",
              "      <td>0.000000</td>\n",
              "      <td>14.5</td>\n",
              "    </tr>\n",
              "    <tr>\n",
              "      <th>2001-01-02</th>\n",
              "      <td>15.8125</td>\n",
              "      <td>16.0</td>\n",
              "      <td>13.625</td>\n",
              "      <td>13.875</td>\n",
              "      <td>13.875</td>\n",
              "      <td>9203500</td>\n",
              "      <td>0.05</td>\n",
              "      <td>0.241667</td>\n",
              "      <td>14.5</td>\n",
              "    </tr>\n",
              "    <tr>\n",
              "      <th>2001-01-02</th>\n",
              "      <td>15.8125</td>\n",
              "      <td>16.0</td>\n",
              "      <td>13.625</td>\n",
              "      <td>13.875</td>\n",
              "      <td>13.875</td>\n",
              "      <td>9203500</td>\n",
              "      <td>0.00</td>\n",
              "      <td>0.000000</td>\n",
              "      <td>14.5</td>\n",
              "    </tr>\n",
              "    <tr>\n",
              "      <th>2001-01-02</th>\n",
              "      <td>15.8125</td>\n",
              "      <td>16.0</td>\n",
              "      <td>13.625</td>\n",
              "      <td>13.875</td>\n",
              "      <td>13.875</td>\n",
              "      <td>9203500</td>\n",
              "      <td>0.00</td>\n",
              "      <td>0.000000</td>\n",
              "      <td>14.5</td>\n",
              "    </tr>\n",
              "    <tr>\n",
              "      <th>2001-01-02</th>\n",
              "      <td>15.8125</td>\n",
              "      <td>16.0</td>\n",
              "      <td>13.625</td>\n",
              "      <td>13.875</td>\n",
              "      <td>13.875</td>\n",
              "      <td>9203500</td>\n",
              "      <td>0.00</td>\n",
              "      <td>0.000000</td>\n",
              "      <td>14.5</td>\n",
              "    </tr>\n",
              "    <tr>\n",
              "      <th>2001-01-02</th>\n",
              "      <td>15.8125</td>\n",
              "      <td>16.0</td>\n",
              "      <td>13.625</td>\n",
              "      <td>13.875</td>\n",
              "      <td>13.875</td>\n",
              "      <td>9203500</td>\n",
              "      <td>0.00</td>\n",
              "      <td>0.000000</td>\n",
              "      <td>14.5</td>\n",
              "    </tr>\n",
              "    <tr>\n",
              "      <th>2001-01-02</th>\n",
              "      <td>15.8125</td>\n",
              "      <td>16.0</td>\n",
              "      <td>13.625</td>\n",
              "      <td>13.875</td>\n",
              "      <td>13.875</td>\n",
              "      <td>9203500</td>\n",
              "      <td>0.00</td>\n",
              "      <td>0.000000</td>\n",
              "      <td>14.5</td>\n",
              "    </tr>\n",
              "  </tbody>\n",
              "</table>\n",
              "</div>"
            ],
            "text/plain": [
              "               Open  High     Low  ...  polarity  subjectivity  Price\n",
              "2001-01-02  15.8125  16.0  13.625  ...      0.00      0.000000   14.5\n",
              "2001-01-02  15.8125  16.0  13.625  ...      0.00      0.000000   14.5\n",
              "2001-01-02  15.8125  16.0  13.625  ...      0.00      0.000000   14.5\n",
              "2001-01-02  15.8125  16.0  13.625  ...      0.00      0.000000   14.5\n",
              "2001-01-02  15.8125  16.0  13.625  ...      0.05      0.241667   14.5\n",
              "2001-01-02  15.8125  16.0  13.625  ...      0.00      0.000000   14.5\n",
              "2001-01-02  15.8125  16.0  13.625  ...      0.00      0.000000   14.5\n",
              "2001-01-02  15.8125  16.0  13.625  ...      0.00      0.000000   14.5\n",
              "2001-01-02  15.8125  16.0  13.625  ...      0.00      0.000000   14.5\n",
              "2001-01-02  15.8125  16.0  13.625  ...      0.00      0.000000   14.5\n",
              "\n",
              "[10 rows x 9 columns]"
            ]
          },
          "metadata": {
            "tags": []
          },
          "execution_count": 215
        }
      ]
    },
    {
      "cell_type": "code",
      "metadata": {
        "colab": {
          "base_uri": "https://localhost:8080/",
          "height": 596
        },
        "id": "rjV2HK0KDOoc",
        "outputId": "cac6e3b3-d013-43ee-cf98-d872d1e511bb"
      },
      "source": [
        "plt.figure(figsize=(25,10))\n",
        "stock_news['Close'].plot()\n",
        "plt.title(\"Close Price\")\n",
        "plt.xlabel('Date')\n",
        "plt.ylabel('Close Price (INR)')"
      ],
      "execution_count": 216,
      "outputs": [
        {
          "output_type": "execute_result",
          "data": {
            "text/plain": [
              "Text(0, 0.5, 'Close Price (INR)')"
            ]
          },
          "metadata": {
            "tags": []
          },
          "execution_count": 216
        },
        {
          "output_type": "display_data",
          "data": {
            "image/png": "[encoded data removed]",
            "text/plain": [
              "<Figure size 1800x720 with 1 Axes>"
            ]
          },
          "metadata": {
            "tags": [],
            "needs_background": "light"
          }
        }
      ]
    },
    {
      "cell_type": "code",
      "metadata": {
        "colab": {
          "base_uri": "https://localhost:8080/",
          "height": 941
        },
        "id": "N-Uua7eKDhdt",
        "outputId": "eb747a9b-5850-47c4-be48-7bbfb216b4be"
      },
      "source": [
        "plt.figure(figsize=(30,20))\n",
        "stock_news['Close'].plot()\n",
        "stock_news.rolling(window=200).mean()['Close'].plot()"
      ],
      "execution_count": 217,
      "outputs": [
        {
          "output_type": "execute_result",
          "data": {
            "text/plain": [
              "<matplotlib.axes._subplots.AxesSubplot at 0x7fd55429a210>"
            ]
          },
          "metadata": {
            "tags": []
          },
          "execution_count": 217
        },
        {
          "output_type": "display_data",
          "data": {
            "image/png": "[encoded data removed]",
            "text/plain": [
              "<Figure size 2160x1440 with 1 Axes>"
            ]
          },
          "metadata": {
            "tags": [],
            "needs_background": "light"
          }
        }
      ]
    },
    {
      "cell_type": "markdown",
      "metadata": {
        "id": "hKnFUr_kft0-"
      },
      "source": [
        "\n",
        "\n",
        "---\n",
        "# **SPLITTING DATASET INTO TEST AND TRAIN**\n",
        "\n",
        "\n",
        "---\n",
        "\n",
        "\n",
        "\n"
      ]
    },
    {
      "cell_type": "code",
      "metadata": {
        "id": "XnumezdvD_KH"
      },
      "source": [
        "X = stock_news.drop(['Price','Close'], axis = 1)\n",
        "Y = stock_news[['Price','Close']]"
      ],
      "execution_count": 218,
      "outputs": []
    },
    {
      "cell_type": "code",
      "metadata": {
        "id": "nV0LHzfHE-7w"
      },
      "source": [
        "from sklearn.model_selection import ShuffleSplit\n",
        "\n",
        "split = ShuffleSplit(n_splits=10, test_size=0.1, random_state=42)\n",
        "for train_index, test_index in split.split(X, Y):\n",
        "  X_train, X_test = X.iloc[train_index], X.iloc[test_index]\n",
        "  Y_train, Y_test = Y.iloc[train_index], Y.iloc[test_index]"
      ],
      "execution_count": null,
      "outputs": []
    },
    {
      "cell_type": "markdown",
      "metadata": {
        "id": "mpi4TM-Yf9uS"
      },
      "source": [
        "\n",
        "\n",
        "---\n",
        "# **TRAINING THE MODEL - RANDOM FOREST**\n",
        "\n",
        "\n",
        "---\n",
        "\n",
        "\n",
        "\n"
      ]
    },
    {
      "cell_type": "code",
      "metadata": {
        "id": "XCeNsI8SIXPf"
      },
      "source": [
        "from sklearn.multioutput import RegressorChain\n",
        "from sklearn.ensemble import RandomForestRegressor\n",
        "model = RandomForestRegressor(random_state = 42, n_estimators = 500, criterion='mse', max_depth = 30, min_samples_leaf=2,\n",
        "                            min_samples_split=5, n_jobs=1)"
      ],
      "execution_count": null,
      "outputs": []
    },
    {
      "cell_type": "code",
      "metadata": {
        "colab": {
          "base_uri": "https://localhost:8080/"
        },
        "id": "NTwqKXk9IjZZ",
        "outputId": "c7166461-e016-42d8-d9ee-6c1f7a6246e3"
      },
      "source": [
        "model_chain = RegressorChain(model)\n",
        "model_chain.fit(X_train, Y_train)\n",
        "print(\" SUCCESSFULLY IMPLEMENTED\")"
      ],
      "execution_count": 219,
      "outputs": [
        {
          "output_type": "stream",
          "text": [
            " SUCCESSFULLY IMPLEMENTED\n"
          ],
          "name": "stdout"
        }
      ]
    },
    {
      "cell_type": "code",
      "metadata": {
        "id": "zWK9m7TNInUK"
      },
      "source": [
        "pred = model_chain.predict(X_test)\n",
        "Y_pred = []\n",
        "for x in range(len(pred)):\n",
        "  Y_pred.append([round(pred[x][0], 2),round(pred[x][1], 2) ])"
      ],
      "execution_count": 220,
      "outputs": []
    },
    {
      "cell_type": "code",
      "metadata": {
        "colab": {
          "base_uri": "https://localhost:8080/",
          "height": 191
        },
        "id": "IPF-10tLRefQ",
        "outputId": "a8b71351-bd7a-478d-c942-940432495100"
      },
      "source": [
        "Predictions = pd.DataFrame({'Actual_Price': Y_test['Price'], 'Actual_Close': Y_test['Close'], 'Predicted_Price': list(list(zip(*Y_pred))[0]), 'Predicted_Close': list(list(zip(*Y_pred))[1])})  \n",
        "Predictions.tail(5)"
      ],
      "execution_count": 221,
      "outputs": [
        {
          "output_type": "execute_result",
          "data": {
            "text/html": [
              "<div>\n",
              "<style scoped>\n",
              "    .dataframe tbody tr th:only-of-type {\n",
              "        vertical-align: middle;\n",
              "    }\n",
              "\n",
              "    .dataframe tbody tr th {\n",
              "        vertical-align: top;\n",
              "    }\n",
              "\n",
              "    .dataframe thead th {\n",
              "        text-align: right;\n",
              "    }\n",
              "</style>\n",
              "<table border=\"1\" class=\"dataframe\">\n",
              "  <thead>\n",
              "    <tr style=\"text-align: right;\">\n",
              "      <th></th>\n",
              "      <th>Actual_Price</th>\n",
              "      <th>Actual_Close</th>\n",
              "      <th>Predicted_Price</th>\n",
              "      <th>Predicted_Close</th>\n",
              "    </tr>\n",
              "  </thead>\n",
              "  <tbody>\n",
              "    <tr>\n",
              "      <th>2010-12-08</th>\n",
              "      <td>176.55</td>\n",
              "      <td>176.289993</td>\n",
              "      <td>176.55</td>\n",
              "      <td>176.29</td>\n",
              "    </tr>\n",
              "    <tr>\n",
              "      <th>2007-07-25</th>\n",
              "      <td>86.21</td>\n",
              "      <td>86.180000</td>\n",
              "      <td>86.21</td>\n",
              "      <td>86.18</td>\n",
              "    </tr>\n",
              "    <tr>\n",
              "      <th>2004-12-29</th>\n",
              "      <td>44.98</td>\n",
              "      <td>44.820000</td>\n",
              "      <td>44.98</td>\n",
              "      <td>44.82</td>\n",
              "    </tr>\n",
              "    <tr>\n",
              "      <th>2009-01-22</th>\n",
              "      <td>49.69</td>\n",
              "      <td>49.939999</td>\n",
              "      <td>49.69</td>\n",
              "      <td>49.94</td>\n",
              "    </tr>\n",
              "    <tr>\n",
              "      <th>2003-12-11</th>\n",
              "      <td>50.38</td>\n",
              "      <td>50.799999</td>\n",
              "      <td>50.38</td>\n",
              "      <td>50.80</td>\n",
              "    </tr>\n",
              "  </tbody>\n",
              "</table>\n",
              "</div>"
            ],
            "text/plain": [
              "            Actual_Price  Actual_Close  Predicted_Price  Predicted_Close\n",
              "2010-12-08        176.55    176.289993           176.55           176.29\n",
              "2007-07-25         86.21     86.180000            86.21            86.18\n",
              "2004-12-29         44.98     44.820000            44.98            44.82\n",
              "2009-01-22         49.69     49.939999            49.69            49.94\n",
              "2003-12-11         50.38     50.799999            50.38            50.80"
            ]
          },
          "metadata": {
            "tags": []
          },
          "execution_count": 221
        }
      ]
    },
    {
      "cell_type": "markdown",
      "metadata": {
        "id": "07uko3uIgsDX"
      },
      "source": [
        "\n",
        "\n",
        "---\n",
        "\n",
        "# **EVALUATION**\n",
        "\n",
        "---\n",
        "\n"
      ]
    },
    {
      "cell_type": "markdown",
      "metadata": {
        "id": "dQKsXNkvhNZT"
      },
      "source": [
        "# **Coefficient of determination**"
      ]
    },
    {
      "cell_type": "code",
      "metadata": {
        "colab": {
          "base_uri": "https://localhost:8080/"
        },
        "id": "0ar5ba37IufQ",
        "outputId": "ce0134a1-496c-49c4-ff5f-1cf3058bf8f6"
      },
      "source": [
        "from sklearn.metrics import r2_score\n",
        "r2_score(Y_test, Y_pred)\n"
      ],
      "execution_count": 194,
      "outputs": [
        {
          "output_type": "execute_result",
          "data": {
            "text/plain": [
              "0.9999999998517033"
            ]
          },
          "metadata": {
            "tags": []
          },
          "execution_count": 194
        }
      ]
    },
    {
      "cell_type": "code",
      "metadata": {
        "id": "G7IPl5flLXjN"
      },
      "source": [
        ""
      ],
      "execution_count": null,
      "outputs": []
    }
  ]
}
